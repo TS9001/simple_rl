{
 "cells": [
  {
   "cell_type": "markdown",
   "metadata": {},
   "source": [
    "# Supervised Learning Example\n",
    "\n",
    "This notebook demonstrates how to use the SupervisedLearning algorithm for classification and regression tasks."
   ]
  },
  {
   "cell_type": "code",
   "execution_count": null,
   "metadata": {},
   "outputs": [],
   "source": [
    "import torch\n",
    "import torch.nn as nn\n",
    "import numpy as np\n",
    "from sklearn.datasets import make_classification, make_regression\n",
    "from sklearn.model_selection import train_test_split\n",
    "import matplotlib.pyplot as plt\n",
    "\n",
    "import sys\n",
    "sys.path.append('..')\n",
    "\n",
    "from simple_rl.algorithms.supervised_learning import SupervisedLearning"
   ]
  },
  {
   "cell_type": "markdown",
   "metadata": {},
   "source": [
    "## 1. Classification Example"
   ]
  },
  {
   "cell_type": "code",
   "execution_count": null,
   "metadata": {},
   "outputs": [],
   "source": [
    "# Generate synthetic classification data\n",
    "X, y = make_classification(\n",
    "    n_samples=1000,\n",
    "    n_features=20,\n",
    "    n_informative=15,\n",
    "    n_classes=3,\n",
    "    random_state=42\n",
    ")\n",
    "\n",
    "# Split into train/val/test\n",
    "X_train, X_temp, y_train, y_temp = train_test_split(X, y, test_size=0.3, random_state=42)\n",
    "X_val, X_test, y_val, y_test = train_test_split(X_temp, y_temp, test_size=0.5, random_state=42)\n",
    "\n",
    "# Convert to tensors\n",
    "X_train = torch.FloatTensor(X_train)\n",
    "y_train = torch.LongTensor(y_train)\n",
    "X_val = torch.FloatTensor(X_val)\n",
    "y_val = torch.LongTensor(y_val)\n",
    "X_test = torch.FloatTensor(X_test)\n",
    "y_test = torch.LongTensor(y_test)\n",
    "\n",
    "print(f\"Train: {X_train.shape}, Val: {X_val.shape}, Test: {X_test.shape}\")"
   ]
  },
  {
   "cell_type": "code",
   "execution_count": null,
   "metadata": {},
   "outputs": [],
   "source": [
    "# Define a simple MLP model for classification\n",
    "class MLPClassifier(nn.Module):\n",
    "    def __init__(self, input_dim, hidden_dim, num_classes):\n",
    "        super().__init__()\n",
    "        self.fc1 = nn.Linear(input_dim, hidden_dim)\n",
    "        self.fc2 = nn.Linear(hidden_dim, hidden_dim // 2)\n",
    "        self.fc3 = nn.Linear(hidden_dim // 2, num_classes)\n",
    "        self.relu = nn.ReLU()\n",
    "        self.dropout = nn.Dropout(0.2)\n",
    "    \n",
    "    def forward(self, x):\n",
    "        x = self.relu(self.fc1(x))\n",
    "        x = self.dropout(x)\n",
    "        x = self.relu(self.fc2(x))\n",
    "        x = self.dropout(x)\n",
    "        x = self.fc3(x)\n",
    "        return x\n",
    "\n",
    "# Create model\n",
    "model = MLPClassifier(input_dim=20, hidden_dim=64, num_classes=3)\n",
    "print(f\"Model parameters: {sum(p.numel() for p in model.parameters())}\")"
   ]
  },
  {
   "cell_type": "code",
   "execution_count": null,
   "metadata": {},
   "outputs": [],
   "source": [
    "# Create supervised learning algorithm\n",
    "config = {\n",
    "    \"training\": {\n",
    "        \"learning_rate\": 0.001,\n",
    "        \"batch_size\": 32,\n",
    "        \"num_epochs\": 50\n",
    "    }\n",
    "}\n",
    "\n",
    "sl_classifier = SupervisedLearning(\n",
    "    model=model,\n",
    "    config=config,\n",
    "    task_type=\"classification\",\n",
    "    use_wandb=False\n",
    ")\n",
    "\n",
    "# Set data\n",
    "sl_classifier.create_data_from_arrays(\n",
    "    X_train, y_train,\n",
    "    X_val, y_val,\n",
    "    X_test, y_test\n",
    ")"
   ]
  },
  {
   "cell_type": "code",
   "execution_count": null,
   "metadata": {},
   "outputs": [],
   "source": [
    "# Train the model\n",
    "print(\"Training classifier...\")\n",
    "final_metrics = sl_classifier.train(num_episodes=30)\n",
    "print(f\"\\nFinal training metrics: {final_metrics}\")"
   ]
  },
  {
   "cell_type": "code",
   "execution_count": null,
   "metadata": {},
   "outputs": [],
   "source": [
    "# Evaluate on test set\n",
    "test_metrics = sl_classifier.evaluate()\n",
    "print(f\"Test metrics: {test_metrics}\")"
   ]
  },
  {
   "cell_type": "markdown",
   "metadata": {},
   "source": [
    "## 2. Regression Example"
   ]
  },
  {
   "cell_type": "code",
   "execution_count": null,
   "metadata": {},
   "outputs": [],
   "source": [
    "# Generate synthetic regression data\n",
    "X_reg, y_reg = make_regression(\n",
    "    n_samples=1000,\n",
    "    n_features=10,\n",
    "    n_informative=8,\n",
    "    noise=0.1,\n",
    "    random_state=42\n",
    ")\n",
    "\n",
    "# Normalize targets\n",
    "y_reg = (y_reg - y_reg.mean()) / y_reg.std()\n",
    "\n",
    "# Split into train/val/test\n",
    "X_train_reg, X_temp_reg, y_train_reg, y_temp_reg = train_test_split(X_reg, y_reg, test_size=0.3, random_state=42)\n",
    "X_val_reg, X_test_reg, y_val_reg, y_test_reg = train_test_split(X_temp_reg, y_temp_reg, test_size=0.5, random_state=42)\n",
    "\n",
    "# Convert to tensors\n",
    "X_train_reg = torch.FloatTensor(X_train_reg)\n",
    "y_train_reg = torch.FloatTensor(y_train_reg).unsqueeze(1)  # Add dimension for MSE loss\n",
    "X_val_reg = torch.FloatTensor(X_val_reg)\n",
    "y_val_reg = torch.FloatTensor(y_val_reg).unsqueeze(1)\n",
    "X_test_reg = torch.FloatTensor(X_test_reg)\n",
    "y_test_reg = torch.FloatTensor(y_test_reg).unsqueeze(1)\n",
    "\n",
    "print(f\"Train: {X_train_reg.shape}, Val: {X_val_reg.shape}, Test: {X_test_reg.shape}\")"
   ]
  },
  {
   "cell_type": "code",
   "execution_count": null,
   "metadata": {},
   "outputs": [],
   "source": [
    "# Define a simple MLP model for regression\n",
    "class MLPRegressor(nn.Module):\n",
    "    def __init__(self, input_dim, hidden_dim):\n",
    "        super().__init__()\n",
    "        self.fc1 = nn.Linear(input_dim, hidden_dim)\n",
    "        self.fc2 = nn.Linear(hidden_dim, hidden_dim // 2)\n",
    "        self.fc3 = nn.Linear(hidden_dim // 2, 1)  # Single output for regression\n",
    "        self.relu = nn.ReLU()\n",
    "    \n",
    "    def forward(self, x):\n",
    "        x = self.relu(self.fc1(x))\n",
    "        x = self.relu(self.fc2(x))\n",
    "        x = self.fc3(x)\n",
    "        return x\n",
    "\n",
    "# Create model\n",
    "regression_model = MLPRegressor(input_dim=10, hidden_dim=32)\n",
    "print(f\"Model parameters: {sum(p.numel() for p in regression_model.parameters())}\")"
   ]
  },
  {
   "cell_type": "code",
   "execution_count": null,
   "metadata": {},
   "outputs": [],
   "source": [
    "# Create supervised learning algorithm for regression\n",
    "config_reg = {\n",
    "    \"training\": {\n",
    "        \"learning_rate\": 0.01,\n",
    "        \"batch_size\": 32,\n",
    "        \"num_epochs\": 100\n",
    "    }\n",
    "}\n",
    "\n",
    "sl_regressor = SupervisedLearning(\n",
    "    model=regression_model,\n",
    "    config=config_reg,\n",
    "    task_type=\"regression\",\n",
    "    use_wandb=False\n",
    ")\n",
    "\n",
    "# Set data\n",
    "sl_regressor.create_data_from_arrays(\n",
    "    X_train_reg, y_train_reg,\n",
    "    X_val_reg, y_val_reg,\n",
    "    X_test_reg, y_test_reg\n",
    ")"
   ]
  },
  {
   "cell_type": "code",
   "execution_count": null,
   "metadata": {},
   "outputs": [],
   "source": [
    "# Train the regression model\n",
    "print(\"Training regressor...\")\n",
    "final_metrics_reg = sl_regressor.train(num_episodes=50)\n",
    "print(f\"\\nFinal training metrics: {final_metrics_reg}\")"
   ]
  },
  {
   "cell_type": "code",
   "execution_count": null,
   "metadata": {},
   "outputs": [],
   "source": [
    "# Evaluate on test set\n",
    "test_metrics_reg = sl_regressor.evaluate()\n",
    "print(f\"Test metrics: {test_metrics_reg}\")"
   ]
  },
  {
   "cell_type": "code",
   "execution_count": null,
   "metadata": {},
   "outputs": [],
   "source": [
    "# Visualize some predictions\n",
    "sl_regressor.model.eval()\n",
    "with torch.no_grad():\n",
    "    predictions = sl_regressor.model(X_test_reg[:100])\n",
    "    \n",
    "plt.figure(figsize=(10, 5))\n",
    "plt.scatter(y_test_reg[:100], predictions, alpha=0.5)\n",
    "plt.plot([y_test_reg[:100].min(), y_test_reg[:100].max()], \n",
    "         [y_test_reg[:100].min(), y_test_reg[:100].max()], 'r--', lw=2)\n",
    "plt.xlabel('True Values')\n",
    "plt.ylabel('Predictions')\n",
    "plt.title('Regression: True vs Predicted')\n",
    "plt.show()"
   ]
  },
  {
   "cell_type": "markdown",
   "metadata": {},
   "source": [
    "## 3. Using with Real Datasets\n",
    "\n",
    "You can also use SupervisedLearning with real datasets from PyTorch or HuggingFace:"
   ]
  },
  {
   "cell_type": "code",
   "execution_count": null,
   "metadata": {},
   "outputs": [],
   "source": [
    "# Example with PyTorch DataLoader\n",
    "from torch.utils.data import DataLoader, TensorDataset\n",
    "\n",
    "# Create your own DataLoader\n",
    "train_dataset = TensorDataset(X_train, y_train)\n",
    "train_loader = DataLoader(train_dataset, batch_size=32, shuffle=True)\n",
    "\n",
    "val_dataset = TensorDataset(X_val, y_val)\n",
    "val_loader = DataLoader(val_dataset, batch_size=32, shuffle=False)\n",
    "\n",
    "# Create new model and algorithm\n",
    "model2 = MLPClassifier(input_dim=20, hidden_dim=64, num_classes=3)\n",
    "sl2 = SupervisedLearning(model=model2, config=config, task_type=\"classification\")\n",
    "\n",
    "# Set data using DataLoaders directly\n",
    "sl2.set_data(train_data=train_loader, val_data=val_loader)\n",
    "\n",
    "# Train\n",
    "# final_metrics2 = sl2.train(num_episodes=10)\n",
    "# print(f\"Final metrics: {final_metrics2}\")"
   ]
  }
 ],
 "metadata": {
  "kernelspec": {
   "display_name": "Python 3",
   "language": "python",
   "name": "python3"
  },
  "language_info": {
   "codemirror_mode": {
    "name": "ipython",
    "version": 3
   },
   "file_extension": ".py",
   "mimetype": "text/x-python",
   "name": "python",
   "nbconvert_exporter": "python",
   "pygments_lexer": "ipython3",
   "version": "3.8.0"
  }
 },
 "nbformat": 4,
 "nbformat_minor": 4
}