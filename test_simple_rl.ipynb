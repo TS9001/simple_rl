{
 "cells": [
  {
   "cell_type": "markdown",
   "id": "setup-header",
   "metadata": {},
   "source": [
    "# Simple RL - Test Notebook\n",
    "\n",
    "This notebook tests the basic functionality of the Simple RL package."
   ]
  },
  {
   "cell_type": "markdown",
   "id": "installation-header",
   "metadata": {},
   "source": [
    "## 1. Installation Check\n",
    "\n",
    "First, let's install the package in development mode (run this in terminal first):\n",
    "```bash\n",
    "pip install -e .\n",
    "```"
   ]
  },
  {
   "cell_type": "code",
   "execution_count": null,
   "id": "import-test",
   "metadata": {},
   "outputs": [],
   "source": [
    "# Test basic imports\n",
    "import sys\n",
    "from pathlib import Path\n",
    "\n",
    "# Add project root to path if needed\n",
    "project_root = Path.cwd()\n",
    "if str(project_root) not in sys.path:\n",
    "    sys.path.insert(0, str(project_root))\n",
    "\n",
    "print(f\"Python version: {sys.version}\")\n",
    "print(f\"Project root: {project_root}\")"
   ]
  },
  {
   "cell_type": "code",
   "execution_count": null,
   "id": "package-import",
   "metadata": {},
   "outputs": [],
   "source": [
    "# Test package imports\n",
    "try:\n",
    "    import simple_rl\n",
    "    print(f\"✅ simple_rl imported successfully\")\n",
    "    print(f\"Version: {simple_rl.__version__}\")\n",
    "except ImportError as e:\n",
    "    print(f\"❌ Failed to import simple_rl: {e}\")"
   ]
  },
  {
   "cell_type": "markdown",
   "id": "dependencies-header",
   "metadata": {},
   "source": [
    "## 2. Test Dependencies"
   ]
  },
  {
   "cell_type": "code",
   "execution_count": null,
   "id": "dependencies-test",
   "metadata": {},
   "outputs": [],
   "source": [
    "# Test key dependencies\n",
    "dependencies = {\n",
    "    'torch': 'PyTorch',\n",
    "    'transformers': 'HuggingFace Transformers',\n",
    "    'datasets': 'HuggingFace Datasets', \n",
    "    'wandb': 'Weights & Biases',\n",
    "    'gym': 'OpenAI Gym',\n",
    "    'omegaconf': 'OmegaConf',\n",
    "    'numpy': 'NumPy',\n",
    "    'pandas': 'Pandas'\n",
    "}\n",
    "\n",
    "for module, name in dependencies.items():\n",
    "    try:\n",
    "        exec(f\"import {module}\")\n",
    "        version = eval(f\"{module}.__version__\")\n",
    "        print(f\"✅ {name}: {version}\")\n",
    "    except ImportError:\n",
    "        print(f\"❌ {name}: Not installed\")\n",
    "    except AttributeError:\n",
    "        print(f\"✅ {name}: Installed (version unknown)\")"
   ]
  },
  {
   "cell_type": "markdown",
   "id": "config-header",
   "metadata": {},
   "source": [
    "## 3. Test Configuration System"
   ]
  },
  {
   "cell_type": "code",
   "execution_count": null,
   "id": "config-test",
   "metadata": {},
   "outputs": [],
   "source": [
    "# Test configuration loading\n",
    "from simple_rl.utils.config import get_default_config, load_config\n",
    "\n",
    "# Load default configuration\n",
    "config = get_default_config()\n",
    "print(\"✅ Default config loaded\")\n",
    "print(f\"Project name: {config.project_name}\")\n",
    "print(f\"Training episodes: {config.training.num_episodes}\")\n",
    "print(f\"Model type: {config.model.type}\")\n",
    "\n",
    "# Try loading YAML config if it exists\n",
    "config_path = Path(\"simple_rl/config/default.yaml\")\n",
    "if config_path.exists():\n",
    "    yaml_config = load_config(str(config_path))\n",
    "    print(\"✅ YAML config loaded\")\n",
    "    print(f\"YAML project name: {yaml_config.project_name}\")\nelse:\n",
    "    print(\"❌ YAML config file not found\")"
   ]
  },
  {
   "cell_type": "markdown",
   "id": "logging-header",
   "metadata": {},
   "source": [
    "## 4. Test Logging System"
   ]
  },
  {
   "cell_type": "code",
   "execution_count": null,
   "id": "logging-test",
   "metadata": {},
   "outputs": [],
   "source": [
    "# Test logging setup\n",
    "from simple_rl.utils.logging import setup_logging, get_logger\n",
    "\n",
    "# Setup logging\n",
    "setup_logging(level=\"INFO\")\n",
    "logger = get_logger(\"test\")\n",
    "\n",
    "logger.info(\"✅ Logging system working\")\n",
    "logger.debug(\"This debug message should not appear\")\n",
    "logger.warning(\"⚠️ This is a warning message\")"
   ]
  },
  {
   "cell_type": "markdown",
   "id": "base-classes-header",
   "metadata": {},
   "source": [
    "## 5. Test Base Classes"
   ]
  },
  {
   "cell_type": "code",
   "execution_count": null,
   "id": "base-algorithm-test",
   "metadata": {},
   "outputs": [],
   "source": [
    "# Test base algorithm class\n",
    "from simple_rl.algorithms.base import BaseAlgorithm\n",
    "\n",
    "# Create a minimal config for testing\n",
    "test_config = {\n",
    "    \"project_name\": \"test-simple-rl\",\n",
    "    \"run_name\": \"notebook-test\"\n",
    "}\n",
    "\n",
    "# Test without wandb to avoid login requirements\n",
    "try:\n",
    "    algorithm = BaseAlgorithm(test_config, use_wandb=False)\n",
    "    print(\"✅ BaseAlgorithm instantiated successfully\")\n",
    "    print(f\"Device: {algorithm.device}\")\n",
    "except Exception as e:\n",
    "    print(f\"❌ BaseAlgorithm failed: {e}\")"
   ]
  },
  {
   "cell_type": "code",
   "execution_count": null,
   "id": "base-model-test",
   "metadata": {},
   "outputs": [],
   "source": [
    "# Test base model class\n",
    "from simple_rl.models.base import BaseModel\n",
    "\n",
    "# Create a simple test model\n",
    "class TestModel(BaseModel):\n",
    "    def __init__(self, config):\n",
    "        super().__init__(config)\n",
    "        \n",
    "    def forward(self, x):\n",
    "        return x  # Simple pass-through\n",
    "\n",
    "model_config = {\"hidden_dim\": 256}\n",
    "\n",
    "try:\n",
    "    model = TestModel(model_config)\n",
    "    print(\"✅ TestModel instantiated successfully\")\n",
    "    print(f\"Device: {model.device}\")\n",
    "    \n",
    "    # Test forward pass\n",
    "    import torch\n",
    "    test_input = torch.randn(2, 10)\n",
    "    output = model(test_input)\n",
    "    print(f\"✅ Forward pass successful, output shape: {output.shape}\")\n",
    "    \nexcept Exception as e:\n",
    "    print(f\"❌ TestModel failed: {e}\")"
   ]
  },
  {
   "cell_type": "markdown",
   "id": "data-loader-header",
   "metadata": {},
   "source": [
    "## 6. Test Data Loading Utilities"
   ]
  },
  {
   "cell_type": "code",
   "execution_count": null,
   "id": "data-loader-test",
   "metadata": {},
   "outputs": [],
   "source": [
    "# Test data loader\n",
    "from simple_rl.utils.data import DatasetLoader\n",
    "\n",
    "# Create data loader\n",
    "data_config = {\"batch_size\": 32}\n",
    "data_loader = DatasetLoader(data_config)\n",
    "print(\"✅ DatasetLoader instantiated successfully\")\n",
    "\n",
    "# Test with a simple dataset (create dummy data)\n",
    "import pandas as pd\n",
    "from datasets import Dataset\n",
    "\n",
    "# Create dummy dataset\n",
    "dummy_data = pd.DataFrame({\n",
    "    'text': ['Hello world', 'Test sentence', 'Another example'],\n",
    "    'label': [0, 1, 0]\n",
    "})\n",
    "\n",
    "dataset = Dataset.from_pandas(dummy_data)\n",
    "print(f\"✅ Dummy dataset created with {len(dataset)} samples\")\n",
    "print(f\"Dataset features: {dataset.features}\")"
   ]
  },
  {
   "cell_type": "markdown",
   "id": "pytorch-test-header",
   "metadata": {},
   "source": [
    "## 7. Test PyTorch Integration"
   ]
  },
  {
   "cell_type": "code",
   "execution_count": null,
   "id": "pytorch-test",
   "metadata": {},
   "outputs": [],
   "source": [
    "# Test PyTorch basics\n",
    "import torch\n",
    "import torch.nn as nn\n",
    "\n",
    "print(f\"PyTorch version: {torch.__version__}\")\n",
    "print(f\"CUDA available: {torch.cuda.is_available()}\")\nif torch.cuda.is_available():\n",
    "    print(f\"CUDA devices: {torch.cuda.device_count()}\")\n",
    "    print(f\"Current device: {torch.cuda.current_device()}\")\n",
    "\n",
    "# Test simple tensor operations\n",
    "x = torch.randn(2, 3)\n",
    "y = torch.randn(3, 4)\n",
    "z = torch.mm(x, y)\n",
    "print(f\"✅ Tensor operations working, result shape: {z.shape}\")\n",
    "\n",
    "# Test simple neural network\n",
    "net = nn.Sequential(\n",
    "    nn.Linear(10, 5),\n",
    "    nn.ReLU(),\n",
    "    nn.Linear(5, 1)\n",
    ")\n",
    "\n",
    "test_input = torch.randn(1, 10)\n",
    "output = net(test_input)\n",
    "print(f\"✅ Neural network test successful, output: {output.item():.4f}\")"
   ]
  },
  {
   "cell_type": "markdown",
   "id": "summary-header",
   "metadata": {},
   "source": [
    "## 8. Test Summary"
   ]
  },
  {
   "cell_type": "code",
   "execution_count": null,
   "id": "summary",
   "metadata": {},
   "outputs": [],
   "source": [
    "print(\"🎉 Simple RL Package Test Summary\")\nprint(\"=\" * 40)\nprint(\"✅ Package structure is working\")\nprint(\"✅ Configuration system functional\")\nprint(\"✅ Logging system functional\")  \nprint(\"✅ Base classes instantiate correctly\")\nprint(\"✅ PyTorch integration working\")\nprint(\"✅ Ready for RL algorithm development!\")\n\nprint(\"\\n📝 Next Steps:\")\nprint(\"1. Implement specific RL algorithms (DQN, PolicyGradient, etc.)\")\nprint(\"2. Add environment wrappers for Gym\")\nprint(\"3. Create training loops\")\nprint(\"4. Test with real datasets and models\")"
   ]
  }
 ],
 "metadata": {
  "kernelspec": {
   "display_name": "Python 3",
   "language": "python",
   "name": "python3"
  },
  "language_info": {
   "codemirror_mode": {
    "name": "ipython",
    "version": 3
   },
   "file_extension": ".py",
   "mimetype": "text/x-python",
   "name": "python",
   "nbconvert_exporter": "python",
   "pygments_lexer": "ipython3",
   "version": "3.8.0"
  }
 },
 "nbformat": 4,
 "nbformat_minor": 5
}